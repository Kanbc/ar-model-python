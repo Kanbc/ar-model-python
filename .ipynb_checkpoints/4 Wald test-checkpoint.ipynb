{
 "cells": [
  {
   "cell_type": "code",
   "execution_count": 1,
   "metadata": {
    "collapsed": true
   },
   "outputs": [],
   "source": [
    "# ------------Create Avec Matrix ---------------\n",
    "# INPUT :\n",
    "# - Ahat is estimated parameter of AR model. \n",
    "#   Ahat = (A1,A2,...,Ap)  has size (n,n,p)\n",
    "# OUTPUT :\n",
    "# - Avec is estimated A matrix into a vector form.\n",
    "#   Avec has size n^2*p x 1 (ดู ได้จากโครงงานไอ้นัด theta)\n",
    "import numpy as np\n",
    "\n",
    "def ARLSvec(Ahat):\n",
    "    # parameter \n",
    "    [p,n,n] = np.shape(Ahat) # Ahat = [A1 A2 ... Ap] that Ai is nxn matrix\n",
    "    \n",
    "    # convert Ahat matrix into a vector form\n",
    "    Avec = []\n",
    "    for i in range(n):\n",
    "        for j in range(n):\n",
    "            for k in range(p):\n",
    "                Avec.append(Ahat[k][i,j]) # Avec is theta\n",
    "\n",
    "    return Avec"
   ]
  },
  {
   "cell_type": "code",
   "execution_count": 2,
   "metadata": {
    "collapsed": true
   },
   "outputs": [],
   "source": [
    "# ------------create Avar Matrix ---------------\n",
    "# INPUT:\n",
    "# - data is the datasets of EEG signal, data = [y(1) y(2) ... y(N)]. \n",
    "#   yx(t) is the value of data at time equals to t.\n",
    "# example: \n",
    "#             | y1(1) y1(2) .... Y1(N) |\n",
    "#             | y2(1) y2(2) .... y2(N) |    \n",
    "#      data = |   .     .          .   |  ; n is the dimension of time series, \n",
    "#             |   .     .          .   |    N is the number of time points in the data\n",
    "#             | yn(1) yn(2) .... yn(N) |\n",
    "# \n",
    "# - p is the lag-order of AR model.\n",
    "# - Sigma is covariance matrix.\n",
    "\n",
    "# OUTPUT:\n",
    "# - Avar is consistent estimate of the asymptotic covariance matrix of Avec.\n",
    "#   Avar has size n^2*p x n^2*p (ดู ได้จากโครงงานไอ้นัด แถวๆ Hbar)\n",
    "import numpy as np\n",
    "\n",
    "def ARLSvar(data,p,Sigma):\n",
    "    #  parameter\n",
    "    [n,N] = np.shape(data)\n",
    "\n",
    "    # compute Avar from   \n",
    "    ivAvar = zeros(n*n*p)\n",
    "    for t in range(p,N):\n",
    "        Yit = data[:,t-p:t] # [ y(t-p) ... y(t-2) y(t-1) ] \n",
    "        Yflip = fliplr(Yit) # [ y(t-1) y(t-2) ... y(t-p) ] \n",
    "        \n",
    "        ybar = Yflip.reshape(-1,1) # 1 column automatically calculate the appropriate number of rows.\n",
    "        Hbar = kron(identity(n),ybar.conj().transpose())\n",
    "\n",
    "        ivSigma = np.linalg.inv(Sigma)\n",
    "        ivAvar = ivAvar + np.dot(np.dot(Hbar.conj().transpose(),ivSigma),Hbar)\n",
    "\n",
    "    Avar = np.linalg.inv(ivAvar)\n",
    "    return Avar"
   ]
  },
  {
   "cell_type": "code",
   "execution_count": 3,
   "metadata": {
    "collapsed": true
   },
   "outputs": [],
   "source": [
    "# ------------Inverse-chi-squared distribution function---------------\n",
    "# INPUT :\n",
    "# - x is 1-alpha\n",
    "# - p is degrees of freedom.\n",
    "\n",
    "# OUTPUT :\n",
    "# - c is a critical value\n",
    "from scipy.stats import gamma\n",
    "\n",
    "def chi2inv(x, p):\n",
    "    inv = gamma.ppf(x,p/2,scale=2)    \n",
    "    return inv    "
   ]
  },
  {
   "cell_type": "code",
   "execution_count": 4,
   "metadata": {
    "collapsed": true
   },
   "outputs": [],
   "source": [
    "# ----------- Wald test for AR model with--------------\n",
    "# INPUT :\n",
    "# - n is the dimension of the model output\n",
    "# - p is the lag-order of the model\n",
    "# - Avec is estimated A matrix into a vector form. Avec has size n^2*p x 1.\n",
    "# - Avar is a consistent estimate of the asymptotic covariance matrix of Aest\n",
    "# - alpha is a significance level of the test\n",
    "\n",
    "# OUTPUT :\n",
    "# - S is zero structure of estimated model parameter\n",
    "# - W is Wald\n",
    "import numpy as np\n",
    "from PIL import Image\n",
    "\n",
    "def funcWaldTest(n,p,Avec,Avar,alpha):\n",
    "    # --- Wald test ---\n",
    "    W = zeros((n,n))\n",
    "    c = chi2inv(1-alpha,p) # a critical value\n",
    "    print(\"Critical value :\",c) \n",
    "\n",
    "    Cvec = [c+1] * n\n",
    "    Cdiag = np.diag(Cvec)\n",
    "\n",
    "    W = W + Cdiag\n",
    "\n",
    "    # create Bhat = [Bij] = r(thetahat) from Avec = (B11,B12,...,B1n);...;(Bn1,Bn2,...,Bnn)    \n",
    "    # r = [rij] >> rij = r[i,j]\n",
    "    r = {}\n",
    "    ni = 0\n",
    "    for i in range(n):\n",
    "        for j in range(n):\n",
    "            r[i,j] = Avec[ni*p:(ni+1)*p] \n",
    "            ni+=1\n",
    "            \n",
    "    # create Wald matrix        \n",
    "    nsquar = 0\n",
    "    for i in range(n): #(1:n)\n",
    "        for j in range(n): #(1:n)\n",
    "            rij = np.array(r[i,j])            \n",
    "            Avarij = Avar[nsquar*p:(nsquar+1)*p, nsquar*p:(nsquar+1)*p]\n",
    "            invAvarij = np.linalg.inv(Avarij)\n",
    "            W[i,j] = np.dot(np.dot(rij.conj().transpose(),invAvarij),rij) # Wald statistic value\n",
    "            nsquar = nsquar+1\n",
    "\n",
    "    S = W > c # True, False structure\n",
    "    S = S*1   # 0, 1 structure\n",
    "\n",
    "    # diagonal entries of S should be assigned to 1\n",
    "    for i in range(n):\n",
    "        S[i,i]=1\n",
    "\n",
    "    return [S,W]"
   ]
  },
  {
   "cell_type": "code",
   "execution_count": null,
   "metadata": {
    "collapsed": true
   },
   "outputs": [],
   "source": []
  }
 ],
 "metadata": {
  "kernelspec": {
   "display_name": "Python 3",
   "language": "python",
   "name": "python3"
  },
  "language_info": {
   "codemirror_mode": {
    "name": "ipython",
    "version": 3
   },
   "file_extension": ".py",
   "mimetype": "text/x-python",
   "name": "python",
   "nbconvert_exporter": "python",
   "pygments_lexer": "ipython3",
   "version": "3.6.1"
  }
 },
 "nbformat": 4,
 "nbformat_minor": 2
}
