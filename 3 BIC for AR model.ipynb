{
 "cells": [
  {
   "cell_type": "markdown",
   "metadata": {
    "collapsed": true
   },
   "source": [
    "## BIC score for select order of VAR model"
   ]
  },
  {
   "cell_type": "code",
   "execution_count": 1,
   "metadata": {
    "collapsed": true
   },
   "outputs": [],
   "source": [
    "# ===INPUT===\n",
    "#  − deltaY is the difference matrix of data and estimated data .\n",
    "#    example : deltaY = Y− Yest when p+1−N; Y is data , Yest is estimated data ,\n",
    "#  − Sigma is the covariance matrix of AR model.\n",
    "#  − p is the lag−order of AR model, that you want to know score. \n",
    "# ===OUTPUT===\n",
    "#  − BICscore\n",
    "\n",
    "import numpy as np\n",
    "from math import log\n",
    "\n",
    "def BIC_ARmodel(deltaY, Sigma, p):\n",
    "    # get parameter\n",
    "    [n,Nminusp] = np.shape(deltaY) # get n and (N−p) \n",
    "    N = Nminusp+p;\n",
    "\n",
    "    # find right part of log−likelihood function \n",
    "    ivSigma = np.linalg.inv(Sigma)\n",
    "    rLogli = 0\n",
    "    for t in range(0,Nminusp): \n",
    "        deltaYt = deltaY[:,t]\n",
    "        rLogli = rLogli + np.dot(np.dot(deltaYt.transpose(), ivSigma), deltaYt)\n",
    "\n",
    "    # find BIC score at order p\n",
    "    L = ((N-p)/2)*log(np.linalg.det(ivSigma)) - (1/2)*rLogli\n",
    "    d = n*(n*p+1)\n",
    "    BIC = -2*L + d*log(N)     \n",
    "    \n",
    "    return BIC"
   ]
  },
  {
   "cell_type": "code",
   "execution_count": null,
   "metadata": {
    "collapsed": true
   },
   "outputs": [],
   "source": []
  }
 ],
 "metadata": {
  "kernelspec": {
   "display_name": "Python 3",
   "language": "python",
   "name": "python3"
  },
  "language_info": {
   "codemirror_mode": {
    "name": "ipython",
    "version": 3
   },
   "file_extension": ".py",
   "mimetype": "text/x-python",
   "name": "python",
   "nbconvert_exporter": "python",
   "pygments_lexer": "ipython3",
   "version": "3.6.1"
  }
 },
 "nbformat": 4,
 "nbformat_minor": 2
}
