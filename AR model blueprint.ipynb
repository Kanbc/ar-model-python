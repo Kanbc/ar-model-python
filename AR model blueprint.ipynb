{
 "cells": [
  {
   "cell_type": "markdown",
   "metadata": {},
   "source": [
    "## AR Model\n",
    "\n",
    "Autoregressive model สามารถใช้อธิบายสัญญาณทางเวลา (time series) รวมถึงใช้ในการทำนายค่าของสัญญาณในอนาคตได้\n",
    "\n",
    "#### Assumptions\n",
    "1. a variable is assumed to depend on its previous values. ค่าของสัญญาณแต่ละเวลาขึ้นอยู่กับค่าของสัญญาณในอดีตก่อนตัวมัน\n",
    "2. The relation is also assumed to be linear. มีความสัมพันธ์กับค่าของสัญญาณในอดีตแบบ Linear\n",
    "\n",
    "#### Requirements\n",
    "1. หาค่า order ที่เหมาะสมของ model\n",
    "2. หาค่า parameter ของ data\n",
    "\n",
    "#### Formula\n",
    "$$ x_{t} = c + \\Sigma_{i=1}^{p}a_{i}x_{t-i} + e_{t} $$\n",
    "\n",
    "เมื่อ \n",
    "   * $x_{t}$ คือค่าของสัญญาณที่เวลา $t$\n",
    "   * $c$ คือค่าคงที่\n",
    "   * $a_{i}$ คือพารามิเตอร์ที่ order $i$\n",
    "   * $p$ คือ จำนวนค่าในอดีตก่อนหน้าไกลสุดที่มีผลต่อค่า $x_{t}$ เช่น $p=7$ หมายความว่า ค่าปัจจุบัน $x_{t}$ ขึ้นกับค่าในอดีตก่อนหน้า 7 ค่า คือ มี order = 7 (order อาจใช้ $AIC$, **$BIC$** ในการหา)\n",
    "   * $e_{t}$ คือ white noise (สัญญาณรบกวนที่ random ค่าและมี Distribution การกระจายตัวเป็นแบบ normal)\n",
    "\n"
   ]
  },
  {
   "cell_type": "code",
   "execution_count": null,
   "metadata": {
    "collapsed": true
   },
   "outputs": [],
   "source": []
  }
 ],
 "metadata": {
  "kernelspec": {
   "display_name": "Python 3",
   "language": "python",
   "name": "python3"
  },
  "language_info": {
   "codemirror_mode": {
    "name": "ipython",
    "version": 3
   },
   "file_extension": ".py",
   "mimetype": "text/x-python",
   "name": "python",
   "nbconvert_exporter": "python",
   "pygments_lexer": "ipython3",
   "version": "3.6.1"
  }
 },
 "nbformat": 4,
 "nbformat_minor": 2
}
