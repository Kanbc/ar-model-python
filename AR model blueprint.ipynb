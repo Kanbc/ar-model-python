{
 "cells": [
  {
   "cell_type": "markdown",
   "metadata": {},
   "source": [
    "#### Keywords\n",
    "1. regression - แปลว่าถดถอย ในที่นี้แปลว่า Model ที่ค่าขึ้นกับค่าอะไรบางอย่างในอดีต (ที่ไม่ใข่ตัวเอง)\n",
    "1. autoregression - ถดถอยด้วยตัวเอง ในที่นี้แปลว่า Model ที่ค่าปัจจุบันขึ้นกับค่าของตัวเองในอดีต\n",
    "1. coefficients - ค่าสัมประสิทธิ์\n",
    "2. correlation - ตัวแปรต้นส่งผลต่อตัวแปรตามเท่านั้น เช่น $y = 3x_{1}+2x_{2}$ โดยที่ $x_{1},x_{2}$ เป็นอิสระต่อกัน \n",
    "3. autocorrelation - นอกจากตัวแปรต้นส่งผลต่อตัวแปรตามแล้ว ยังส่งผลต่อตัวแปรต้นด้วยกันเองอีก เช่น $y = 3x_{1}+5x_{2}$ แล้ว $x_{1} = 5x_{2}$ ($x_{1},x_{2}$ ไม่เป็นอิสระต่อกัน)\n",
    "2. Least mean squares (LMS) - \n",
    "3. rms (root mean squar error)\n",
    "4. mean absolute error\n",
    "5. Symmetric Mean absolute percentage error \n",
    "6. Coefficient of determination"
   ]
  },
  {
   "cell_type": "markdown",
   "metadata": {},
   "source": [
    "## Autoregressive Model\n",
    "\n",
    "> Autoregressive model สามารถใช้อธิบาย**สัญญาณทางเวลา (time series)** รวมถึงใช้ในการทำนายค่าของสัญญาณในอนาคตได้\n",
    "\n",
    "#### Assumptions\n",
    "1. a variable is assumed to depend on its previous values. ค่าของสัญญาณแต่ละเวลาขึ้นอยู่กับค่าของสัญญาณในอดีตก่อนตัวมัน ดังนั้นหากจะใช้ model นี้ เพื่อทำนายค่าในอนาคต เราต้องสังเกต(ใช้)ค่าจาก input เดียวกัน ในอดีตได้ด้วย\n",
    "2. The relation is also assumed to be linear. มีความสัมพันธ์กับค่าของสัญญาณในอดีตแบบ Linear\n",
    "\n",
    "#### Requirements\n",
    "1. หาค่า order ที่เหมาะสมของ model\n",
    "2. หาค่า parameter ของ data\n",
    "\n",
    "#### Formula\n",
    "$$ x_{t} = c + \\Sigma_{i=1}^{p}a_{i}x_{t-i} + e_{t} $$\n",
    "\n",
    "เมื่อ \n",
    "   * $x_{t}$ คือค่าของสัญญาณที่เวลา $t$\n",
    "   * $c$ คือค่าคงที่\n",
    "   * $a_{i}$ คือพารามิเตอร์ที่ order $i$ ที่หาได้จากการ optimzing the model โดยการ train data\n",
    "   * $p$ คือ จำนวนค่าในอดีตก่อนหน้าไกลสุดที่มีผลต่อค่า $x_{t}$ เช่น $p=7$ หมายความว่า ค่าปัจจุบัน $x_{t}$ ขึ้นกับค่าในอดีตก่อนหน้า 7 ค่า คือ มี order = 7 (order อาจใช้ $AIC$, **$BIC$** ในการหา)\n",
    "   * $e_{t}$ คือ white noise (สัญญาณรบกวนที่ random ค่าและมี Distribution การกระจายตัวเป็นแบบ normal)\n",
    "   \n"
   ]
  },
  {
   "cell_type": "markdown",
   "metadata": {},
   "source": [
    "## Autocorrelation\n",
    "\n",
    "ความสัมพันธ์ระหว่างตัวแปร(variables) เรียกว่า correlation.\n",
    "เมื่อตัวแปรทั้งสองเปลี่ยนไปในทิศทางเดียวกัน เรียกว่า positive correlation.\n",
    "แต่ถ้าเปลี่ยนไปในทางตรงกันข้าม เรียกว่า negative correlation.\n",
    "\n",
    "เราสามารถใช้วิธีการทางสถิติวัด correlation ระหว่าง\n",
    "* output variable และค่าของสัญญาณในอดีต พิจารณากับ lags หลายๆค่า\n",
    "* output variable และค่าของ lags แต่ละค่า\n",
    "\n",
    "AR model ที่ correlation นั้นพิจารณาค่า**ระหว่าง variable และตัวมันเองในอดีต** ซึ่งเรียกว่า autocorrelation \n",
    "\n",
    "> สถิติความสัมพันธ์ (correlation statistics) ยังสามารถช่วยในการเลือกตัวแปร ($p$) ที่มีและไม่มีประโยขน์ต่อค่าใน Model ได้ด้วย\n",
    "\n",
    "**โดยเมื่อ lag variable ทุกตัวมีค่า correlation น้อย หรือไม่มีเลยกับค่า output variable นั่นหมายความว่าสัญญาณทางเวลานี้อาจจะไม่สามารถ predict ได้ด้วยข้อมูลของตัวมันเอง** ซึ่งนี่มีประโยชน์มากตอนเริ่มทำงานกับ Dataset ชุดใหม่"
   ]
  },
  {
   "cell_type": "markdown",
   "metadata": {},
   "source": [
    "## Solution\n",
    "1. explore time series data เพื่อพิจารณา autocorrelation.\n",
    "2. develop an autocorrelation model และ ใช้มัน predictions.\n",
    "3. ใช้ autocorrelation model ที่ได้จากข้อ 3. เพื่อสร้าง rolling predictions.\n",
    "\n",
    "*เราจะ estimate model parameters จาก sample ข้อมูลบางส่วน (80%) แล้วเก็บข้อมูลบางส่วนไว้ test (20%) และตรวจสอบ model เพื่อไม่ให้เกิดเหตุการณ์ perfect fit (overfitting)*"
   ]
  },
  {
   "cell_type": "markdown",
   "metadata": {},
   "source": [
    "## 1. Explore time series data for autocorrelation\n",
    "\n",
    "**ตัวอย่าง** : ข้อมูลอุณหภูมิต่ำสุดในช่วงเวลา 10 ปี (1981-1990) ของเมือง Melbourne, Australia.\n",
    "\n",
    "*หน่วยของอุณหภูมิคือ $^{o}C$ มีคนวัด 3,650 คน ที่มา [Australian Bureau of Meteorology](https://datamarket.com/data/set/2324/daily-minimum-temperatures-in-melbourne-australia-1981-1990#!ds=2324&display=line)* "
   ]
  },
  {
   "cell_type": "code",
   "execution_count": 20,
   "metadata": {},
   "outputs": [
    {
     "name": "stdout",
     "output_type": "stream",
     "text": [
      "Params [ 0.67172672  0.33626295]\n",
      "Root mean square error 22.8148122613\n",
      "Mean absolute error 17.6515446503\n",
      "Mean absolute percentage error 60.7817800736\n",
      "Symmetric Mean absolute percentage error 34.9843386176\n",
      "Coefficient of determination 0.799940292779\n"
     ]
    },
    {
     "data": {
      "image/png": "[encoded data removed]",
      "text/plain": [
       "<matplotlib.figure.Figure at 0x114fd9e48>"
      ]
     },
     "metadata": {},
     "output_type": "display_data"
    }
   ],
   "source": [
    "from scipy.optimize import leastsq\n",
    "import statsmodels.api as sm\n",
    "import matplotlib.pyplot as plt\n",
    "import numpy as np\n",
    "\n",
    "# value from model\n",
    "def model(p, x1, x10):\n",
    "   p1, p10 = p\n",
    "#    print(p1)\n",
    "#    print(p10)\n",
    "   return p1 * x1 + p10 * x10\n",
    "\n",
    "# difference between data and model\n",
    "def error(p, data, x1, x10):\n",
    "   return data - model(p, x1, x10)\n",
    "\n",
    "# เพื่อ fit data เริ่มจาก leastsq() กำลังสองน้อยสุด SD minimize\n",
    "def fit(data):\n",
    "   p0 = [.5, 0.5]\n",
    "   params = leastsq(error, p0, args=(data[10:], data[9:-1], data[:-10]))[0]\n",
    "   return params\n",
    "\n",
    "# Data\n",
    "data_loader = sm.datasets.sunspots.load_pandas()\n",
    "sunspots = data_loader.data[\"SUNACTIVITY\"].values\n",
    "\n",
    "# use 0.9 of data for train model\n",
    "cutoff = int(.9 * len(sunspots))\n",
    "# train data\n",
    "params = fit(sunspots[:cutoff])\n",
    "\n",
    "#Parameter of model\n",
    "print(\"Params\", params)\n",
    "\n",
    "\n",
    "pred = params[0] * sunspots[cutoff-1:-1] + params[1] * sunspots[cutoff-10:-10]\n",
    "actual = sunspots[cutoff:]\n",
    "print(\"Root mean square error\", np.sqrt(np.mean((actual - pred) ** 2)))\n",
    "print(\"Mean absolute error\", np.mean(np.abs(actual - pred)))\n",
    "print(\"Mean absolute percentage error\", 100 * np.mean(np.abs(actual - pred)/actual))\n",
    "mid = (actual + pred)/2\n",
    "print(\"Symmetric Mean absolute percentage error\", 100 * np.mean(np.abs(actual - pred)/mid))\n",
    "print(\"Coefficient of determination\", 1 - ((actual - pred) ** 2).sum()/ ((actual - actual.mean()) ** 2).sum())\n",
    "year_range = data_loader.data[\"YEAR\"].values[cutoff:]\n",
    "plt.plot(year_range, actual, 'o', label=\"Sunspots\")\n",
    "plt.plot(year_range, pred, 'x', label=\"Prediction\")\n",
    "plt.grid(True)\n",
    "plt.xlabel(\"YEAR\")\n",
    "plt.ylabel(\"SUNACTIVITY\")\n",
    "plt.legend()\n",
    "plt.show()\n"
   ]
  },
  {
   "cell_type": "code",
   "execution_count": null,
   "metadata": {
    "collapsed": true
   },
   "outputs": [],
   "source": []
  }
 ],
 "metadata": {
  "kernelspec": {
   "display_name": "Python 3",
   "language": "python",
   "name": "python3"
  },
  "language_info": {
   "codemirror_mode": {
    "name": "ipython",
    "version": 3
   },
   "file_extension": ".py",
   "mimetype": "text/x-python",
   "name": "python",
   "nbconvert_exporter": "python",
   "pygments_lexer": "ipython3",
   "version": "3.6.1"
  }
 },
 "nbformat": 4,
 "nbformat_minor": 2
}
