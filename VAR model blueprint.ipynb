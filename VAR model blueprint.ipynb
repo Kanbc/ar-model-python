{
 "cells": [
  {
   "cell_type": "markdown",
   "metadata": {},
   "source": [
    "## VAR Model\n",
    "\n",
    "เมื่อ AR model คือ\n",
    "$$ y(t) = c + a_{1}y(t-1) + a_{2}y(t-2) + \\cdots + a_{p}y(t-p) + e(t) $$\n",
    "\n",
    "หากมี n สัญญาณ  จะเขียนได้ว่า\n",
    "\n",
    "$$ y_{1}(t) = c_{1} + a_{11}y_{1}(t-1) + a_{12}y_{1}(t-2) + \\cdots + a_{1p}y_{1}(t-p) + e_{1}(t) $$\n",
    "$$ y_{2}(t) = c_{2} + a_{21}y_{2}(t-1) + a_{22}y_{2}(t-2) + \\cdots + a_{2p}y_{2}(t-p) + e_{2}(t) $$\n",
    "$$\\vdots$$\n",
    "$$ y_{n}(t) = c_{n} + a_{n1}y_{n}(t-1) + a_{n2}y_{n}(t-2) + \\cdots + a_{np}y_{n}(t-p) + e_{n}(t) $$\n",
    "\n",
    "ถ้าเขียนให้อยู่ในรูป Matrix จะได้ว่า\n",
    "\n",
    "$$ Y(t) = AH(t) + E(t)$$\n",
    "\n",
    "เมื่อ $Y(t) \\in \\mathbb{R}^{n}$, $A \\in \\mathbb{R}^{n\\times(np+1)}$, $H(t) \\in \\mathbb{R}^{np+1}$, $E(t) \\in \\mathbb{R}^{n} $\n",
    "$$ Y(t) = \\begin{bmatrix} \n",
    "                y_{1}(t)  \\\\\n",
    "                y_{2}(t)  \\\\\n",
    "                \\vdots    \\\\\n",
    "                y_{n}(t)\n",
    "          \\end{bmatrix} $$   \n",
    "       \n",
    "$$ H(t) = \\begin{bmatrix} \n",
    "                   1\\\\\n",
    "                Y(t-1)  \\\\\n",
    "                Y(t-2)  \\\\\n",
    "                \\vdots    \\\\\n",
    "                Y(t-p)\n",
    "          \\end{bmatrix} $$\n",
    "          \n",
    "$$ A = \\begin{bmatrix} \n",
    "                C & A_{1} & A_{2} & \\dots & A_{p}\\\\\n",
    "       \\end{bmatrix} $$\n",
    "เมื่อ $C \\in \\mathbb{R}^{n}$, $A_{p} \\in \\mathbb{R^{n \\times n}}$"
   ]
  },
  {
   "cell_type": "code",
   "execution_count": null,
   "metadata": {},
   "outputs": [],
   "source": []
  },
  {
   "cell_type": "code",
   "execution_count": null,
   "metadata": {
    "collapsed": true
   },
   "outputs": [],
   "source": []
  }
 ],
 "metadata": {
  "kernelspec": {
   "display_name": "Python 3",
   "language": "python",
   "name": "python3"
  },
  "language_info": {
   "codemirror_mode": {
    "name": "ipython",
    "version": 3
   },
   "file_extension": ".py",
   "mimetype": "text/x-python",
   "name": "python",
   "nbconvert_exporter": "python",
   "pygments_lexer": "ipython3",
   "version": "3.6.1"
  }
 },
 "nbformat": 4,
 "nbformat_minor": 2
}
